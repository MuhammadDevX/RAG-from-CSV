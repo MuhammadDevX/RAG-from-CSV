{
 "cells": [
  {
   "cell_type": "code",
   "execution_count": 26,
   "metadata": {},
   "outputs": [],
   "source": [
    "import pandas as pd\n",
    "import os\n",
    "from dotenv import load_dotenv\n",
    "from pinecone import Pinecone\n",
    "from pinecone import ServerlessSpec\n",
    "from langchain_openai import OpenAIEmbeddings\n",
    "from langchain_core.documents import Document\n",
    "from langchain_pinecone import PineconeVectorStore\n",
    "import getpass\n",
    "from uuid import uuid4\n"
   ]
  },
  {
   "cell_type": "code",
   "execution_count": 2,
   "metadata": {},
   "outputs": [],
   "source": [
    "# Pinecone client\n",
    "if not os.getenv(\"PINECONE_API_KEY\"):\n",
    "    os.environ[\"PINECONE_API_KEY\"] = getpass.getpass(\"Enter your Pinecone API key: \")\n",
    "pinecone_api_key = os.environ.get(\"PINECONE_API_KEY\")\n",
    "pc = Pinecone(api_key=pinecone_api_key)"
   ]
  },
  {
   "cell_type": "code",
   "execution_count": 52,
   "metadata": {},
   "outputs": [],
   "source": [
    "index_name = \"legal-cases\" # Replace the name with anything you like \n",
    "if not pc.has_index(index_name):\n",
    "    pc.create_index(\n",
    "        name=index_name,\n",
    "        dimension=1536,\n",
    "        metric=\"cosine\",\n",
    "        spec=ServerlessSpec(cloud=\"aws\", region=\"us-east-1\"),\n",
    "    )"
   ]
  },
  {
   "cell_type": "code",
   "execution_count": 53,
   "metadata": {},
   "outputs": [],
   "source": [
    "index = pc.Index(index_name)\n",
    "embeddings = OpenAIEmbeddings()\n",
    "vector_store = PineconeVectorStore(index=index, embedding=embeddings)"
   ]
  },
  {
   "cell_type": "code",
   "execution_count": 54,
   "metadata": {},
   "outputs": [
    {
     "data": {
      "text/html": [
       "<div>\n",
       "<style scoped>\n",
       "    .dataframe tbody tr th:only-of-type {\n",
       "        vertical-align: middle;\n",
       "    }\n",
       "\n",
       "    .dataframe tbody tr th {\n",
       "        vertical-align: top;\n",
       "    }\n",
       "\n",
       "    .dataframe thead th {\n",
       "        text-align: right;\n",
       "    }\n",
       "</style>\n",
       "<table border=\"1\" class=\"dataframe\">\n",
       "  <thead>\n",
       "    <tr style=\"text-align: right;\">\n",
       "      <th></th>\n",
       "      <th>cases</th>\n",
       "    </tr>\n",
       "  </thead>\n",
       "  <tbody>\n",
       "    <tr>\n",
       "      <th>0</th>\n",
       "      <td>NaN</td>\n",
       "    </tr>\n",
       "    <tr>\n",
       "      <th>1</th>\n",
       "      <td>,}/Judgmenl Sheet\\nIN THE PBSHAWAR HIGH COURT,...</td>\n",
       "    </tr>\n",
       "    <tr>\n",
       "      <th>2</th>\n",
       "      <td>1Judgment Sheet\\nPESHAWAR HIGH COURT, ABBOTTAB...</td>\n",
       "    </tr>\n",
       "    <tr>\n",
       "      <th>3</th>\n",
       "      <td>JUDGMENT SHEET IN THE PESHAWAR HIGH COURT, MIN...</td>\n",
       "    </tr>\n",
       "    <tr>\n",
       "      <th>4</th>\n",
       "      <td>JUDGMENT SHEET PESHAWAR HIGH COURT, PESHAWAR (...</td>\n",
       "    </tr>\n",
       "  </tbody>\n",
       "</table>\n",
       "</div>"
      ],
      "text/plain": [
       "                                               cases\n",
       "0                                                NaN\n",
       "1  ,}/Judgmenl Sheet\\nIN THE PBSHAWAR HIGH COURT,...\n",
       "2  1Judgment Sheet\\nPESHAWAR HIGH COURT, ABBOTTAB...\n",
       "3  JUDGMENT SHEET IN THE PESHAWAR HIGH COURT, MIN...\n",
       "4  JUDGMENT SHEET PESHAWAR HIGH COURT, PESHAWAR (..."
      ]
     },
     "execution_count": 54,
     "metadata": {},
     "output_type": "execute_result"
    }
   ],
   "source": [
    "df = pd.read_csv(\"cases.csv\")\n",
    "df.head()"
   ]
  },
  {
   "cell_type": "code",
   "execution_count": 55,
   "metadata": {},
   "outputs": [],
   "source": [
    "cases = list(df[\"cases\"])[1:]"
   ]
  },
  {
   "cell_type": "code",
   "execution_count": 56,
   "metadata": {},
   "outputs": [
    {
     "data": {
      "text/plain": [
       "990"
      ]
     },
     "execution_count": 56,
     "metadata": {},
     "output_type": "execute_result"
    }
   ],
   "source": [
    "len(cases)"
   ]
  },
  {
   "cell_type": "code",
   "execution_count": 57,
   "metadata": {},
   "outputs": [],
   "source": [
    "docs = [Document(page_content=case[:40000] if len(case) > 40000 else case,metadata={id:i}) for i,case in enumerate(cases)] # Length that pinecone does not allow"
   ]
  },
  {
   "cell_type": "code",
   "execution_count": 58,
   "metadata": {},
   "outputs": [],
   "source": [
    "for i in range(len(docs)):\n",
    "    docs[i].metadata = {\n",
    "        \"source\": f\"case_{i}\",\n",
    "        \"summary\": docs[i].page_content[:500]  # Keep summary short\n",
    "    }\n"
   ]
  },
  {
   "cell_type": "code",
   "execution_count": 59,
   "metadata": {},
   "outputs": [],
   "source": [
    "import json\n",
    "\n",
    "def is_valid_document(doc):\n",
    "    metadata_size = len(json.dumps(doc.metadata).encode('utf-8'))\n",
    "    content_size = len(doc.page_content.encode('utf-8'))\n",
    "    total_size = metadata_size + content_size\n",
    "    return total_size < 40960\n"
   ]
  },
  {
   "cell_type": "code",
   "execution_count": 60,
   "metadata": {},
   "outputs": [],
   "source": [
    "docs = [doc for doc in docs if is_valid_document(doc)]\n",
    "uuids = [str(uuid4()) for _ in range(len(docs))]\n"
   ]
  },
  {
   "cell_type": "code",
   "execution_count": 61,
   "metadata": {},
   "outputs": [
    {
     "name": "stdout",
     "output_type": "stream",
     "text": [
      "990\n"
     ]
    }
   ],
   "source": [
    "print(len(docs)) # Should be equal to the one we are giving"
   ]
  },
  {
   "cell_type": "code",
   "execution_count": 62,
   "metadata": {},
   "outputs": [
    {
     "name": "stdout",
     "output_type": "stream",
     "text": [
      "Current Batch Index is: 0\n",
      "Current Batch Index is: 5\n",
      "Current Batch Index is: 10\n",
      "Current Batch Index is: 15\n",
      "Current Batch Index is: 20\n",
      "Current Batch Index is: 25\n",
      "Current Batch Index is: 30\n",
      "Current Batch Index is: 35\n",
      "Current Batch Index is: 40\n",
      "Current Batch Index is: 45\n",
      "Current Batch Index is: 50\n",
      "Current Batch Index is: 55\n",
      "Current Batch Index is: 60\n",
      "Current Batch Index is: 65\n",
      "Current Batch Index is: 70\n",
      "Current Batch Index is: 75\n",
      "Current Batch Index is: 80\n",
      "Current Batch Index is: 85\n",
      "Current Batch Index is: 90\n",
      "Current Batch Index is: 95\n",
      "Current Batch Index is: 100\n",
      "Current Batch Index is: 105\n",
      "Current Batch Index is: 110\n",
      "Current Batch Index is: 115\n",
      "Current Batch Index is: 120\n",
      "Current Batch Index is: 125\n",
      "Current Batch Index is: 130\n",
      "Current Batch Index is: 135\n",
      "Current Batch Index is: 140\n",
      "Current Batch Index is: 145\n",
      "Current Batch Index is: 150\n",
      "Current Batch Index is: 155\n",
      "Current Batch Index is: 160\n",
      "Current Batch Index is: 165\n",
      "Current Batch Index is: 170\n",
      "Current Batch Index is: 175\n",
      "Current Batch Index is: 180\n",
      "Current Batch Index is: 185\n",
      "Current Batch Index is: 190\n",
      "Current Batch Index is: 195\n",
      "Current Batch Index is: 200\n",
      "Current Batch Index is: 205\n",
      "Current Batch Index is: 210\n",
      "Current Batch Index is: 215\n",
      "Current Batch Index is: 220\n",
      "Current Batch Index is: 225\n",
      "Current Batch Index is: 230\n",
      "Current Batch Index is: 235\n",
      "Current Batch Index is: 240\n",
      "Current Batch Index is: 245\n",
      "Current Batch Index is: 250\n",
      "Current Batch Index is: 255\n",
      "Current Batch Index is: 260\n",
      "Current Batch Index is: 265\n",
      "Current Batch Index is: 270\n",
      "Current Batch Index is: 275\n",
      "Current Batch Index is: 280\n",
      "Current Batch Index is: 285\n",
      "Current Batch Index is: 290\n",
      "Current Batch Index is: 295\n",
      "Current Batch Index is: 300\n",
      "Current Batch Index is: 305\n",
      "Current Batch Index is: 310\n",
      "Current Batch Index is: 315\n",
      "Current Batch Index is: 320\n",
      "Current Batch Index is: 325\n",
      "Current Batch Index is: 330\n",
      "Current Batch Index is: 335\n",
      "Current Batch Index is: 340\n",
      "Current Batch Index is: 345\n",
      "Current Batch Index is: 350\n",
      "Current Batch Index is: 355\n",
      "Current Batch Index is: 360\n",
      "Current Batch Index is: 365\n",
      "Current Batch Index is: 370\n",
      "Current Batch Index is: 375\n",
      "Current Batch Index is: 380\n",
      "Current Batch Index is: 385\n",
      "Current Batch Index is: 390\n",
      "Current Batch Index is: 395\n",
      "Current Batch Index is: 400\n",
      "Current Batch Index is: 405\n",
      "Current Batch Index is: 410\n",
      "Current Batch Index is: 415\n",
      "Current Batch Index is: 420\n",
      "Current Batch Index is: 425\n",
      "Current Batch Index is: 430\n",
      "Current Batch Index is: 435\n",
      "Current Batch Index is: 440\n",
      "Current Batch Index is: 445\n",
      "Current Batch Index is: 450\n",
      "Current Batch Index is: 455\n",
      "Current Batch Index is: 460\n",
      "Current Batch Index is: 465\n",
      "Current Batch Index is: 470\n",
      "Current Batch Index is: 475\n",
      "Current Batch Index is: 480\n",
      "Current Batch Index is: 485\n",
      "Current Batch Index is: 490\n",
      "Current Batch Index is: 495\n",
      "Current Batch Index is: 500\n",
      "Current Batch Index is: 505\n",
      "Current Batch Index is: 510\n",
      "Current Batch Index is: 515\n",
      "Current Batch Index is: 520\n",
      "Current Batch Index is: 525\n",
      "Current Batch Index is: 530\n",
      "Current Batch Index is: 535\n",
      "Current Batch Index is: 540\n",
      "Current Batch Index is: 545\n",
      "Current Batch Index is: 550\n",
      "Current Batch Index is: 555\n",
      "Current Batch Index is: 560\n",
      "Current Batch Index is: 565\n",
      "Current Batch Index is: 570\n",
      "Current Batch Index is: 575\n",
      "Current Batch Index is: 580\n",
      "Current Batch Index is: 585\n",
      "Current Batch Index is: 590\n",
      "Current Batch Index is: 595\n",
      "Current Batch Index is: 600\n",
      "Current Batch Index is: 605\n",
      "Current Batch Index is: 610\n",
      "Current Batch Index is: 615\n",
      "Current Batch Index is: 620\n",
      "Current Batch Index is: 625\n",
      "Current Batch Index is: 630\n",
      "Current Batch Index is: 635\n",
      "Current Batch Index is: 640\n",
      "Current Batch Index is: 645\n",
      "Current Batch Index is: 650\n",
      "Current Batch Index is: 655\n",
      "Current Batch Index is: 660\n",
      "Current Batch Index is: 665\n",
      "Current Batch Index is: 670\n",
      "Current Batch Index is: 675\n",
      "Current Batch Index is: 680\n",
      "Current Batch Index is: 685\n",
      "Current Batch Index is: 690\n",
      "Current Batch Index is: 695\n",
      "Current Batch Index is: 700\n",
      "Current Batch Index is: 705\n",
      "Current Batch Index is: 710\n",
      "Current Batch Index is: 715\n",
      "Current Batch Index is: 720\n",
      "Current Batch Index is: 725\n",
      "Current Batch Index is: 730\n",
      "Current Batch Index is: 735\n",
      "Current Batch Index is: 740\n",
      "Current Batch Index is: 745\n",
      "Current Batch Index is: 750\n",
      "Current Batch Index is: 755\n",
      "Current Batch Index is: 760\n",
      "Current Batch Index is: 765\n",
      "Current Batch Index is: 770\n",
      "Current Batch Index is: 775\n",
      "Current Batch Index is: 780\n",
      "Current Batch Index is: 785\n",
      "Current Batch Index is: 790\n",
      "Current Batch Index is: 795\n",
      "Current Batch Index is: 800\n",
      "Current Batch Index is: 805\n",
      "Current Batch Index is: 810\n",
      "Current Batch Index is: 815\n",
      "Current Batch Index is: 820\n",
      "Current Batch Index is: 825\n",
      "Current Batch Index is: 830\n",
      "Current Batch Index is: 835\n",
      "Current Batch Index is: 840\n",
      "Current Batch Index is: 845\n",
      "Current Batch Index is: 850\n",
      "Current Batch Index is: 855\n",
      "Current Batch Index is: 860\n",
      "Current Batch Index is: 865\n",
      "Current Batch Index is: 870\n",
      "Current Batch Index is: 875\n",
      "Current Batch Index is: 880\n",
      "Current Batch Index is: 885\n",
      "Current Batch Index is: 890\n",
      "Current Batch Index is: 895\n",
      "Current Batch Index is: 900\n",
      "Current Batch Index is: 905\n",
      "Current Batch Index is: 910\n",
      "Current Batch Index is: 915\n",
      "Current Batch Index is: 920\n",
      "Current Batch Index is: 925\n",
      "Current Batch Index is: 930\n",
      "Current Batch Index is: 935\n",
      "Current Batch Index is: 940\n",
      "Current Batch Index is: 945\n",
      "Current Batch Index is: 950\n",
      "Current Batch Index is: 955\n",
      "Current Batch Index is: 960\n",
      "Current Batch Index is: 965\n",
      "Current Batch Index is: 970\n",
      "Current Batch Index is: 975\n",
      "Current Batch Index is: 980\n",
      "Current Batch Index is: 985\n"
     ]
    }
   ],
   "source": [
    "uuids = [str(uuid4()) for _ in range(len(docs))]\n",
    "batch_size = 5\n",
    "for i in range(0, len(docs), batch_size):\n",
    "    print(\"Current Batch Index is:\",i)\n",
    "    batch = docs[i:i+batch_size]\n",
    "    batch_ids = uuids[i:i+batch_size]\n",
    "    vector_store.add_documents(batch,ids=batch_ids)"
   ]
  },
  {
   "cell_type": "code",
   "execution_count": 63,
   "metadata": {},
   "outputs": [],
   "source": [
    "res = vector_store.similarity_search(\"Case by Muhammad Ismail\",k=1)"
   ]
  },
  {
   "cell_type": "code",
   "execution_count": 67,
   "metadata": {},
   "outputs": [
    {
     "name": "stdout",
     "output_type": "stream",
     "text": [
      "JUDGMENT SHEET IN THE PESHAWAR HIGH COURT, D.LL.KHAN BENCH (Judicial Department)\n",
      "C.M.No.42-D of 2023 with C.M.Nos.43 & 194-D of 2023 Muhammad Ismail and anotherVersus\n",
      "Muhammad Aslam (deceased)\n",
      "though L.Rs and others JUDGMENT. For petitioners: Muhammad Mohsin Ali, Advocate. For respondents: M/S Ahmad Ali Khan and SalimullahKhan Ranazai, Advocates. Date of hearing 21.02.2024 FAZAL SUBHAN, J.- Through the instant petition filed under section 12(2) C.P.C, the petitioners have called in question the judgment of this Court dated 19.9.2022,rendered in C.R.No.89-D of 2022.2. Relevant facts leading to the instant petition are that Abdul Razaq (respondent No.4 herein) had filed a suit for declaration and permanent injunction in respect of the property detailed in the plaint, which was decreed in his favour vide judgment and decree dated 29.4.2011. The appeal filed thereagainst was dismissed vide judgment and decree dated 08.4.2012 of learned Additional District Judge-V, D.I.Khan. The revision petition filed against the judgment and decree dated 08.4.2012 was also dismissedby this Court on 25.11.2013. The Civil appeal filed against2-the judgment and decree of this Court was disposed of bythe august Supreme Court of Pakistan on 24.02.2021.\n",
      "3. The decree was put to execution, during the course of which, Tehsildar was appointed as a local commission to visit the spot in the presence of parties, measure the disputed property, separate shares of the parties (08 marlas) to decree holder and one kanal to judgment debtor and demarcate the boundary of the same. The Tehsildar submitted his report. None of the parties filed any objection and thus the report was confirmed. The learned executing Court held that the property measuring 1 2/6 marlas in possession of L.Rs of judgment debtors be separatedtowards eastern side.\n",
      "4, Feeling aggrieved from the order of learned executing Court dated 17.9.2021, respondent No.4 filed an appeal which was accepted by learned Additional District Judge-VI, D.L.Khan, the impugned order was set aside with the direction to issue warrant of possession of the decretal property measuring 08 marlas and hand over possession ofthe same to respondent No.4.§. Not satisfied with the order dated 28.7.2022, respondents No.1 to 3 filed revision petition which was accepted by this Court on 19.9.2022, the impugned judgment/order were set aside and the matter was sent backto the learned executing Court with the directions to makenh\n",
      "good the deficiency in the area of respondent No.4 out of the area comprising the houses of Ghulam Yasin and Muhammad Ismail to which the learned counsel for theparties agreed at the bar.6. Agerieved from the order dated 19.9.2022 of this Court, the petitioner Ghulam Yasin and Muhammad Ismail have filed the instant petition under section 12(2) C.P.C, alleging that the impugned order has been obtained on thebasis of fraud and misrepresentation,7. Arguments of learned counsel for the parties heardand record gone through.8. Perusal of the record indicates that Muhammad Azeem, respondent No3, was defendant No.3 in the main suit and after full dressed trial, decree was passed against all the defendants, including Muhammad Azeem. He is the real brother of the petitioners, was also petitioner in C.R.No.89-D/2022 filed before this Court and was duly represented by his learned counsel. During hearing of the revision petition, a consensus developed, whereby the learned counsel for the parties agreed that they will have no objection if the deficiency is made good from the area of Ghulam Yasin and Muhammad Ismail and with the consent of learned counsel for the parties, the revision petition was accepted and the matter was sent to the learned executingCourt with the direction to make good the deficiency out of4-the area comprising the houses of Ghulam Yasin and Muhammad Ismail, petitioners herein. In this view of the matter, the contention of petitioners that order dated 19.9.2022 was procured by playing fraud is without force. The record suggests that petitioners were delivered possession by Muhammad Azeem. At the most, if the petitioners had sold the property, already a subject matter of the decree, then petitioners were defrauded by Muhammad Azeem, their brother. At the same time, transfer of the suit property during pendency of suit is alsohit by the doctrine of lis-pendence. In the case of SheikhMuhammad Iftikhar Alumad and others. Vs. Faiz Ahmad and others (2023 SCMR 2158), the august Supreme Court held that:-“Essentially, no case under section 12(2) of the CP.C, is made out by the Appellants because no fraud was played on the Court. If there is any fraud, at best, it is inter se the parties which does not attract the provisions of section 12(2) of the C.P.C. Section 12(2) of the C.P.C requires that fraud or misrepresentation be played on the court and that consequently the order obtained is through fraud or misrepresentation. In his contest, the applications under section 12(2) of the C.P.C were filed against judgment dated 13.3.2001, being the Appellate Court judgment, in favour of Faiz Ahmad and no case of fraud or misrepresentation is made out in that case against Sheikh Muhammad Saleem. The argument here is that Sheikh Muhammad Saleem deliberately did not inform the Court that he actually sold the land during the pendency of the33%appeal to the Appellants. However, this does not fall within the mandate of section 12(2) of the C.P.C, and, at best, is a fraud inter se the parties.”9, For the reasons mentioned above, the instantpetition being bereft of merit and substance is herebydismissed.Ee eee Announced. Dt:21.02.2024. JUDGE Habib\n",
      "(SB) Hon'ble Mr. Justice Fazal Subhan\n",
      "if! [far\n",
      "\n"
     ]
    }
   ],
   "source": [
    "print(res[0].page_content)"
   ]
  },
  {
   "cell_type": "code",
   "execution_count": null,
   "metadata": {},
   "outputs": [],
   "source": []
  }
 ],
 "metadata": {
  "kernelspec": {
   "display_name": ".venv",
   "language": "python",
   "name": "python3"
  },
  "language_info": {
   "codemirror_mode": {
    "name": "ipython",
    "version": 3
   },
   "file_extension": ".py",
   "mimetype": "text/x-python",
   "name": "python",
   "nbconvert_exporter": "python",
   "pygments_lexer": "ipython3",
   "version": "3.12.7"
  }
 },
 "nbformat": 4,
 "nbformat_minor": 2
}
